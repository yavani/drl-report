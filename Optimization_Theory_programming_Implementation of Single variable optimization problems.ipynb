{
  "nbformat": 4,
  "nbformat_minor": 0,
  "metadata": {
    "colab": {
      "name": "Optimization Theory_programming Assignment2.ipynb",
      "provenance": [],
      "authorship_tag": "ABX9TyNhm04v55E+9QIETqLl9OC6",
      "include_colab_link": true
    },
    "kernelspec": {
      "name": "python3",
      "display_name": "Python 3"
    },
    "language_info": {
      "name": "python"
    }
  },
  "cells": [
    {
      "cell_type": "markdown",
      "metadata": {
        "id": "view-in-github",
        "colab_type": "text"
      },
      "source": [
        "<a href=\"https://colab.research.google.com/github/yavani/drl-report/blob/master/Optimization_Theory_programming_Implementation%20of%20Single%20variable%20optimization%20problems.ipynb\" target=\"_parent\"><img src=\"https://colab.research.google.com/assets/colab-badge.svg\" alt=\"Open In Colab\"/></a>"
      ]
    },
    {
      "cell_type": "code",
      "metadata": {
        "id": "a8vPbeqYym_r",
        "colab": {
          "base_uri": "https://localhost:8080/"
        },
        "outputId": "b8d88e14-4b49-4bc2-dba7-eef240f248fa"
      },
      "source": [
        "\"\"\" Golden section search.  This implementation\n",
        "   does not reuse function evaluations and assumes the minimum is c\n",
        "   or d (not on the edges at a or b)\"\"\"\n",
        "\"\"\" No of equations can be calculated using , tol=(0.618)^n*(b-a)\"\"\"\n",
        "\n",
        "import math\n",
        "\n",
        "gr = (math.sqrt(5) - 1 ) / 2.  #0.618\n",
        "\n",
        "\n",
        "def gss(f, a, b,tol=4):\n",
        "    \n",
        "    c = b - (b - a) / gr\n",
        "    d = a + (b - a) / gr\n",
        "    while abs(b - a) > tol:\n",
        "        if f(c) < f(d):\n",
        "            b = d\n",
        "        else:\n",
        "            a = c\n",
        "\n",
        "        # We recompute both c and d here to avoid loss of precision which may lead to incorrect results or infinite loop\n",
        "        c = b - (b - a) / gr\n",
        "        d = a + (b - a) / gr\n",
        "\n",
        "    return (b + a) / 2\n",
        "\n",
        "\n",
        "  \n",
        "f = lambda x: x**2+54/x\n",
        "x = gss(f, 1, 5)\n",
        "\n",
        "\n",
        "print(\"Minimum is at X : \" , x)\n",
        "print(\"Function Value at X is f(x) :\",f(x))\n",
        "\n",
        "\n"
      ],
      "execution_count": null,
      "outputs": [
        {
          "output_type": "stream",
          "name": "stdout",
          "text": [
            "Minimum is at X :  3.0\n",
            "Function Value at X is f(x) : 27.0\n"
          ]
        }
      ]
    },
    {
      "cell_type": "code",
      "metadata": {
        "colab": {
          "base_uri": "https://localhost:8080/"
        },
        "id": "FqIPLRwyzuma",
        "outputId": "2aa0c23d-7be3-44e1-c655-a872ebb9b158"
      },
      "source": [
        "\n",
        "#from numpy import arange\n",
        "from scipy.optimize import minimize_scalar\n",
        "#from scipy import optimize\n",
        "#from matplotlib import pyplot\n",
        "import math\n",
        "# objective function\n",
        "def f(x):\n",
        "  try:\n",
        "    fx= x**2+54/x\n",
        "  except ZeroDivisionError:\n",
        "    fx=0\n",
        "  \n",
        "  return  fx\n",
        "  \n",
        " \n",
        "# minimize the function\n",
        "res = minimize_scalar(objective,  method='golden')\n",
        "result = minimize_scalar(objective, method='brent')\n",
        "result1 = minimize_scalar(objective, bounds=(1, 4), method='bounded')\n",
        "print(\"1: using golden section search method \" ,res)\n",
        "print(\"2: using brent method  \",result)\n",
        "print(\"3: using bounded method  \",result1)\n"
      ],
      "execution_count": null,
      "outputs": [
        {
          "output_type": "stream",
          "name": "stdout",
          "text": [
            "1: using golden section search method       fun: -9.914949590828146\n",
            "    nfev: 43\n",
            "     nit: 38\n",
            " success: True\n",
            "       x: 1.280776401465682\n",
            "2: using brent method        fun: -9.914949590828147\n",
            "    nfev: 15\n",
            "     nit: 11\n",
            " success: True\n",
            "       x: 1.2807764040333458\n",
            "3: using bounded method        fun: -9.914949590807806\n",
            " message: 'Solution found.'\n",
            "    nfev: 12\n",
            "  status: 0\n",
            " success: True\n",
            "       x: 1.2807751801127647\n"
          ]
        }
      ]
    },
    {
      "cell_type": "code",
      "metadata": {
        "colab": {
          "base_uri": "https://localhost:8080/"
        },
        "id": "oseYcqEx-I6f",
        "outputId": "8171c634-892b-410d-dc53-eb0b4595622f"
      },
      "source": [
        "from scipy import optimize\n",
        "import math\n",
        "def f(x):\n",
        "   try:\n",
        "    fx= x**2+54/x\n",
        "   except ZeroDivisionError:\n",
        "     fx=0\n",
        "   return fx\n",
        "minimum = optimize.golden(f, brack=(0, 5))\n",
        "print(minimum)"
      ],
      "execution_count": null,
      "outputs": [
        {
          "output_type": "stream",
          "name": "stdout",
          "text": [
            "-5e-324\n"
          ]
        }
      ]
    },
    {
      "cell_type": "code",
      "metadata": {
        "colab": {
          "base_uri": "https://localhost:8080/",
          "height": 316
        },
        "id": "mpr7vp0e_FUV",
        "outputId": "7025be55-b9d6-4539-ebc3-e37f0c12d78d"
      },
      "source": [
        "# optimize convex objective function\n",
        "from numpy import arange\n",
        "from scipy.optimize import minimize_scalar\n",
        "from matplotlib import pyplot\n",
        "import math\n",
        " \n",
        "# objective function\n",
        "def objective(x):\n",
        "  try:\n",
        "    fx= (5.0 + x)**2.0\n",
        "  except ZeroDivisionError:\n",
        "    fx=0\n",
        "  return fx\n",
        " \n",
        "# minimize the function\n",
        "#result = minimize_scalar(objective, method='brent')\n",
        "result = minimize_scalar(objective, method='golden')\n",
        "# summarize the result\n",
        "opt_x, opt_y = result['x'], result['fun']\n",
        "print('Optimal Input x: %.6f' % opt_x)\n",
        "print('Optimal Output f(x): %.6f' % opt_y)\n",
        "print('Total Evaluations n: %d' % result['nfev'])\n",
        "# define the range\n",
        "r_min, r_max = -10.0, 10.0\n",
        "# prepare inputs\n",
        "inputs = arange(r_min, r_max, 0.1)\n",
        "# compute targets\n",
        "targets = [objective(x) for x in inputs]\n",
        "# plot inputs vs target\n",
        "pyplot.plot(inputs, targets, '-')\n",
        "# plot the optima\n",
        "pyplot.plot([opt_x], [opt_y], 's', color='r')\n",
        "# show the plot\n",
        "pyplot.show()"
      ],
      "execution_count": null,
      "outputs": [
        {
          "output_type": "stream",
          "name": "stdout",
          "text": [
            "Optimal Input x: -5.000000\n",
            "Optimal Output f(x): 0.000000\n",
            "Total Evaluations n: 45\n"
          ]
        },
        {
          "output_type": "display_data",
          "data": {
            "image/png": "[encoded data removed]",
            "text/plain": [
              "<Figure size 432x288 with 1 Axes>"
            ]
          },
          "metadata": {
            "needs_background": "light"
          }
        }
      ]
    },
    {
      "cell_type": "code",
      "metadata": {
        "colab": {
          "base_uri": "https://localhost:8080/",
          "height": 316
        },
        "id": "olCde4kQuxKI",
        "outputId": "6977910b-c7e9-4b04-f9c4-cd78d0070bf7"
      },
      "source": [
        "# optimize convex objective function\n",
        "from numpy import arange\n",
        "from scipy.optimize import minimize_scalar\n",
        "from matplotlib import pyplot\n",
        "import math\n",
        " \n",
        "# objective function\n",
        "def objective(x):\n",
        "  try:\n",
        "    fx=1/(1+math.exp(x))\n",
        "  except OverflowError:\n",
        "    fx= float('inf')\n",
        "  return fx\n",
        " \n",
        "# minimize the function\n",
        "#result = minimize_scalar(objective, method='brent')\n",
        "result = minimize_scalar(objective, method='golden')\n",
        "# summarize the result\n",
        "opt_x, opt_y = result['x'], result['fun']\n",
        "print('Optimal Input x: %.6f' % opt_x)\n",
        "print('Optimal Output f(x): %.6f' % opt_y)\n",
        "print('Total Evaluations n: %d' % result['nfev'])\n",
        "# define the range\n",
        "r_min, r_max = -10.0, 10.0\n",
        "# prepare inputs\n",
        "inputs = arange(r_min, r_max, 0.1)\n",
        "# compute targets\n",
        "targets = [objective(x) for x in inputs]\n",
        "# plot inputs vs target\n",
        "pyplot.plot(inputs, targets, '-')\n",
        "# plot the optima\n",
        "pyplot.plot([opt_x], [opt_y], 's', color='r')\n",
        "# show the plot\n",
        "pyplot.show()"
      ],
      "execution_count": null,
      "outputs": [
        {
          "output_type": "stream",
          "name": "stdout",
          "text": [
            "Optimal Input x: 709.782711\n",
            "Optimal Output f(x): 0.000000\n",
            "Total Evaluations n: 68\n"
          ]
        },
        {
          "output_type": "display_data",
          "data": {
            "image/png": "[encoded data removed]",
            "text/plain": [
              "<Figure size 432x288 with 1 Axes>"
            ]
          },
          "metadata": {
            "needs_background": "light"
          }
        }
      ]
    },
    {
      "cell_type": "code",
      "metadata": {
        "colab": {
          "base_uri": "https://localhost:8080/"
        },
        "id": "cGE5BxDUCIEj",
        "outputId": "2e5eef45-6655-4580-fff0-632f6eeaf1d6"
      },
      "source": [
        "from numpy import arange\n",
        "r_min, r_max = -10.0, 10.0\n",
        "inputs = arange(r_min, r_max, 2)\n",
        "print(inputs)"
      ],
      "execution_count": null,
      "outputs": [
        {
          "output_type": "stream",
          "name": "stdout",
          "text": [
            "[-10.  -8.  -6.  -4.  -2.   0.   2.   4.   6.   8.]\n"
          ]
        }
      ]
    },
    {
      "cell_type": "code",
      "metadata": {
        "colab": {
          "base_uri": "https://localhost:8080/",
          "height": 317
        },
        "id": "gh1KtdHQBbWj",
        "outputId": "4c95cf86-596d-4894-81ed-aa4ac662503d"
      },
      "source": [
        "# plot a non-convex univariate function\n",
        "from numpy import arange\n",
        "from matplotlib import pyplot\n",
        " \n",
        "# objective function\n",
        "def objective(x):\n",
        "\treturn (x - 2.0) * x * (x + 2.0)**2.0\n",
        "\n",
        "#result = minimize_scalar(objective, method='golden')\n",
        "result = minimize_scalar(objective, method='brent')\n",
        "\n",
        "# summarize the result\n",
        "opt_x, opt_y = result['x'], result['fun']\n",
        "print('Optimal Input x: %.6f' % opt_x)\n",
        "print('Optimal Output f(x): %.6f' % opt_y)\n",
        "print('Total Evaluations n: %d' % result['nfev'])\n",
        " \n",
        "# define range\n",
        "r_min, r_max = -5, 5\n",
        "# prepare inputs\n",
        "inputs = arange(r_min, r_max, 0.1)\n",
        "# compute targets\n",
        "targets = [objective(x) for x in inputs]\n",
        "# plot inputs vs target\n",
        "pyplot.plot(inputs, targets, '--')\n",
        "# plot the optima\n",
        "pyplot.plot([opt_x], [opt_y], '*', color='r')\n",
        "pyplot.show()"
      ],
      "execution_count": null,
      "outputs": [
        {
          "output_type": "stream",
          "name": "stdout",
          "text": [
            "Optimal Input x: 1.280776\n",
            "Optimal Output f(x): -9.914950\n",
            "Total Evaluations n: 15\n"
          ]
        },
        {
          "output_type": "display_data",
          "data": {
            "image/png": "[encoded data removed]",
            "text/plain": [
              "<Figure size 432x288 with 1 Axes>"
            ]
          },
          "metadata": {
            "needs_background": "light"
          }
        }
      ]
    },
    {
      "cell_type": "code",
      "metadata": {
        "colab": {
          "base_uri": "https://localhost:8080/",
          "height": 316
        },
        "id": "Ep8IVGglEMwH",
        "outputId": "7b8312ed-e0cc-47a3-fd3d-8c4a2337e477"
      },
      "source": [
        "\"\"\" Golden section search.  This implementation\n",
        "   does not reuse function evaluations and assumes the minimum is c\n",
        "   or d (not on the edges at a or b)\"\"\"\n",
        "\"\"\" No of equations can be calculated using , tol=(0.618)^n*(b-a)\"\"\"\n",
        "\n",
        "import math\n",
        "from numpy import arange\n",
        "from matplotlib import pyplot\n",
        " \n",
        "\n",
        "gr = (math.sqrt(5) - 1 ) / 2.  #0.618\n",
        "\n",
        "\n",
        "def gss(f, a, b,tol=4):\n",
        "    \n",
        "    c = b - (b - a) / gr\n",
        "    d = a + (b - a) / gr\n",
        "    while abs(b - a) > tol:\n",
        "        if f(c) < f(d):\n",
        "            b = d\n",
        "        else:\n",
        "            a = c\n",
        "\n",
        "        # We recompute both c and d here to avoid loss of precision which may lead to incorrect results or infinite loop\n",
        "        c = b - (b - a) / gr\n",
        "        d = a + (b - a) / gr\n",
        "\n",
        "    return (b + a) / 2\n",
        "\n",
        "\n",
        "  \n",
        "f = lambda x: x**2-3*x-20\n",
        "x = gss(f,2, 6)\n",
        "\n",
        "\n",
        "print(\"Minimum is at X : \" , x)\n",
        "print(\"Function Value at X is f(x) :\",f(x))\n",
        "\n",
        "\n",
        "# define range\n",
        "r_min, r_max = 2, 6\n",
        "# prepare inputs\n",
        "inputs = arange(r_min, r_max, 0.1)\n",
        "# compute targets\n",
        "targets = [gss(f,2,6) for x in inputs]\n",
        "# plot inputs vs target\n",
        "pyplot.plot(inputs, targets, '--')\n"
      ],
      "execution_count": null,
      "outputs": [
        {
          "output_type": "stream",
          "name": "stdout",
          "text": [
            "Minimum is at X :  4.0\n",
            "Function Value at X is f(x) : -16.0\n"
          ]
        },
        {
          "output_type": "execute_result",
          "data": {
            "text/plain": [
              "[<matplotlib.lines.Line2D at 0x7fbe81db0090>]"
            ]
          },
          "metadata": {},
          "execution_count": 10
        },
        {
          "output_type": "display_data",
          "data": {
            "image/png": "[encoded data removed]",
            "text/plain": [
              "<Figure size 432x288 with 1 Axes>"
            ]
          },
          "metadata": {
            "needs_background": "light"
          }
        }
      ]
    }
  ]
}